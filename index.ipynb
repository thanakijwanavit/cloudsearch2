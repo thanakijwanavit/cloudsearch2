{
 "cells": [
  {
   "cell_type": "code",
   "execution_count": null,
   "metadata": {},
   "outputs": [],
   "source": []
  },
  {
   "cell_type": "markdown",
   "metadata": {},
   "source": [
    "# Project name here\n",
    "\n",
    "> Summary description here."
   ]
  },
  {
   "cell_type": "markdown",
   "metadata": {},
   "source": [
    "This file will become your README and also the index of your documentation."
   ]
  },
  {
   "cell_type": "markdown",
   "metadata": {},
   "source": [
    "## Install"
   ]
  },
  {
   "cell_type": "markdown",
   "metadata": {},
   "source": [
    "`pip install your_project_name`"
   ]
  },
  {
   "cell_type": "markdown",
   "metadata": {},
   "source": [
    "## Usage"
   ]
  },
  {
   "cell_type": "markdown",
   "metadata": {},
   "source": [
    "very simple usage, \n",
    "init the search object then call sortedSearch()\n"
   ]
  },
  {
   "cell_type": "code",
   "execution_count": 2,
   "metadata": {},
   "outputs": [],
   "source": [
    "#hide\n",
    "import pickle, os\n",
    "KEY = ''\n",
    "PW = ''\n",
    "keypath = '/Users/nic/.villa-search-2'\n",
    "if KEY and PW:\n",
    "  with open (keypath, 'wb') as f:\n",
    "    pickle.dump({\n",
    "        'KEY': KEY,\n",
    "        'PW': PW\n",
    "    }, f)\n",
    "with open(keypath, 'rb') as f:\n",
    "  creden = pickle.load(f)\n",
    "USER = creden['KEY']\n",
    "PW = creden['PW']\n",
    "ACCESS_KEY_ID = USER\n",
    "SECRET_ACCESS_KEY = PW\n",
    "os.environ['DATABASE_TABLE_NAME'] = 'product-table-dev-manual'\n",
    "os.environ['REGION'] = 'ap-southeast-1'\n",
    "os.environ['INVENTORY_BUCKET_NAME'] = 'product-bucket-dev-manual'\n",
    "os.environ['INPUT_BUCKET_NAME'] = 'input-product-bucket-dev-manual'\n",
    "# os.environ['DAX_ENDPOINT'] = None\n",
    "REGION = 'ap-southeast-1'"
   ]
  },
  {
   "cell_type": "code",
   "execution_count": 3,
   "metadata": {},
   "outputs": [
    {
     "name": "stdout",
     "output_type": "stream",
     "text": [
      "found 464 results, the first item is \n",
      "{'pr_country_en': 'Thailand', 'pr_abb': 'BANANA', 'pr_engname': 'BANANA', 'pr_name': 'BANANA', 'pr_online_name_en': 'BANANA', 'pr_keyword_en': 'banana,bananas,Cavendish Banana,Cavendish,,Fresh fruit', 'pr_online_name_th': 'BANANA', 'cprcode': '0226238', 'villa_category_l2_en': 'Fresh Produce', 'content_en': '0226238 BANANA banana,bananas,Cavendish Banana,Cavendish,,Fresh fruit', 'pr_name_th': 'BANANA', 'iprcode': '0226238', 'oprcode': '0226238', 'villa_category_l3_en': 'Fruits & Vegetable Local', 'hema_name_en': 'BANANA', 'pr_keyword_th': 'กล้วย,กล้วยหอม,กล้วยไข่,กล้วยออร์แกนิก,กล้วออร์แกนิค,Fresh fruit', 'hema_name_th': 'BANANA', 'pr_name_en': 'BANANA', 'pr_code': '0226238', 'villa_category_l4_en': 'Local Fruit', 'content_th': 'BANANA กล้วย,กล้วยหอม,กล้วยไข่,กล้วยออร์แกนิก,กล้วออร์แกนิค,Fresh fruit', 'pr_active': 'Y', 'villa_category_l1_en': 'Fresh'}\n"
     ]
    }
   ],
   "source": [
    "from cloudsearch.cloudsearch import Search\n",
    "searchEndpoint = 'https://search-villa-cloudsearch-2-4izacsoytzqf6kztcyjhssy2ti.ap-southeast-1.cloudsearch.amazonaws.com'\n",
    "searcher = Search(searchTerm = 'banana', key=USER, pw= PW , endpoint=searchEndpoint)\n",
    "result = searcher.search(size=1000)\n",
    "print(f'found {len(list(result))} results, the first item is \\n{next(iter(result))}')"
   ]
  },
  {
   "cell_type": "markdown",
   "metadata": {},
   "source": [
    "## For a more complex requirement\n",
    "You can extend the class, please have a look at sortedSearch example"
   ]
  },
  {
   "cell_type": "code",
   "execution_count": 4,
   "metadata": {},
   "outputs": [
    {
     "name": "stdout",
     "output_type": "stream",
     "text": [
      "raw search result is     villa_category_l1_en villa_category_l2_en      villa_category_l3_en  \\\n",
      "0                  Fresh        Fresh Produce  Fruits & Vegetable Local   \n",
      "1                    NaN                  NaN                       NaN   \n",
      "2                  Fresh        Fresh Produce                    Bakery   \n",
      "3                  Fresh        Fresh Produce                    Bakery   \n",
      "4                  Fresh        Fresh Produce                    Bakery   \n",
      "..                   ...                  ...                       ...   \n",
      "459                Fresh        Seafood Fresh                Crustacean   \n",
      "460                Fresh        Seafood Fresh                Crustacean   \n",
      "461                Fresh        Seafood Fresh             Local Seafood   \n",
      "462                Fresh               Frozen                   Seafood   \n",
      "463                Fresh        Seafood Fresh             Local Seafood   \n",
      "\n",
      "    villa_category_l4_en  \n",
      "0            Local Fruit  \n",
      "1                    NaN  \n",
      "2          Cake category  \n",
      "3          Cake category  \n",
      "4         Pasty category  \n",
      "..                   ...  \n",
      "459                Local  \n",
      "460                Local  \n",
      "461                  NaN  \n",
      "462                  NaN  \n",
      "463                  NaN  \n",
      "\n",
      "[464 rows x 4 columns]\n"
     ]
    }
   ],
   "source": [
    "_ = searcher.sortedSearch()"
   ]
  },
  {
   "cell_type": "code",
   "execution_count": 5,
   "metadata": {},
   "outputs": [
    {
     "name": "stdout",
     "output_type": "stream",
     "text": [
      "raw search result is   villa_category_l1_en villa_category_l2_en villa_category_l3_en  \\\n",
      "0                Fresh                Dairy     Chilled Beverage   \n",
      "1                Fresh                Dairy                 Milk   \n",
      "2                Fresh                Dairy               Cheese   \n",
      "3                Fresh                Dairy     Chilled Beverage   \n",
      "4                Fresh                Dairy                 Milk   \n",
      "5                  NaN                  NaN                  NaN   \n",
      "6                  NaN                  NaN                  NaN   \n",
      "7                Fresh                Dairy               Cheese   \n",
      "8                Fresh                Dairy               Yogurt   \n",
      "9                Fresh                Dairy               Yogurt   \n",
      "\n",
      "  villa_category_l4_en  \n",
      "0                  NaN  \n",
      "1                  NaN  \n",
      "2       Cheddar Cheese  \n",
      "3                  NaN  \n",
      "4                  NaN  \n",
      "5                  NaN  \n",
      "6                  NaN  \n",
      "7                  NaN  \n",
      "8               Yogurt  \n",
      "9        YogurtGranola  \n"
     ]
    }
   ],
   "source": [
    "import json\n",
    "boostDict = {\n",
    "    \"fields\":[\"online_category_l1_en\"]\n",
    "}\n",
    "queryOptions = json.dumps(boostDict)\n",
    "searcher2 = Search(searchTerm = 'dairy', key=USER, pw= PW , endpoint=searchEndpoint)\n",
    "result = searcher2.sortedSearch(queryOptions = queryOptions, size=10)"
   ]
  },
  {
   "cell_type": "code",
   "execution_count": 6,
   "metadata": {},
   "outputs": [
    {
     "name": "stdout",
     "output_type": "stream",
     "text": [
      "raw search result is   villa_category_l1_en villa_category_l2_en villa_category_l3_en  \\\n",
      "0                  NaN                  NaN                  NaN   \n",
      "1                Fresh                Dairy                 Milk   \n",
      "2                Fresh                Dairy                Cream   \n",
      "3                Fresh                Dairy                Cream   \n",
      "4                Fresh                Dairy               Yogurt   \n",
      "5                Fresh                Dairy               Yogurt   \n",
      "6                Fresh                Dairy               Yogurt   \n",
      "7                Fresh                Dairy               Yogurt   \n",
      "8                Fresh                Dairy               Yogurt   \n",
      "9                Fresh                Dairy               Yogurt   \n",
      "\n",
      "   villa_category_l4_en  \n",
      "0                   NaN  \n",
      "1                   NaN  \n",
      "2                   NaN  \n",
      "3                   NaN  \n",
      "4                   NaN  \n",
      "5                   NaN  \n",
      "6                   NaN  \n",
      "7                   NaN  \n",
      "8                   NaN  \n",
      "9                   NaN  \n"
     ]
    }
   ],
   "source": [
    "filterQuery = \"(or \" + \" \".join(['online_category_l1_en' + f\":'{cat}'\" for cat in ['Dairy']]) + \")\"\n",
    "searcher3 = Search(searchTerm = 'dairy', key=USER, pw= PW , endpoint=searchEndpoint)\n",
    "result = searcher3.sortedSearch(filterQuery = filterQuery, size=10)"
   ]
  },
  {
   "cell_type": "code",
   "execution_count": 11,
   "metadata": {},
   "outputs": [
    {
     "data": {
      "text/plain": [
       "'Dairy'"
      ]
     },
     "execution_count": 11,
     "metadata": {},
     "output_type": "execute_result"
    }
   ],
   "source": [
    "result[9]['online_category_l1_en']"
   ]
  },
  {
   "cell_type": "code",
   "execution_count": null,
   "metadata": {},
   "outputs": [],
   "source": []
  }
 ],
 "metadata": {
  "kernelspec": {
   "display_name": "Python 3",
   "language": "python",
   "name": "python3"
  },
  "language_info": {
   "codemirror_mode": {
    "name": "ipython",
    "version": 3
   },
   "file_extension": ".py",
   "mimetype": "text/x-python",
   "name": "python",
   "nbconvert_exporter": "python",
   "pygments_lexer": "ipython3",
   "version": "3.8.5"
  }
 },
 "nbformat": 4,
 "nbformat_minor": 4
}
